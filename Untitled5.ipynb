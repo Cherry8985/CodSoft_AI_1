{
 "cells": [
  {
   "cell_type": "code",
   "execution_count": null,
   "id": "9834f4b0-a339-43d5-a9be-0a9d397a7dd3",
   "metadata": {},
   "outputs": [],
   "source": [
    "def chatbot():\n",
    "  while True:\n",
    "    user_input = input(\"You: \")\n",
    "    user_input = user_input.lower()  # Convert input to lowercase\n",
    "\n",
    "    # Greetings\n",
    "    if any(greet in user_input for greet in (\"hi\", \"hello\", \"hey\")):\n",
    "      response = \"Hey there! How can I help you today?\"\n",
    "\n",
    "    # Ask for name\n",
    "    elif \"your name\" in user_input:\n",
    "      response = \"I'm AI, your friendly chatbot!\"\n",
    "\n",
    "    # What can you do?\n",
    "    elif \"what can you do\" in user_input:\n",
    "      response = \"I can answer basic questions and have a simple conversation. I can also understand greetings, goodbyes, and some fun facts!\"\n",
    "\n",
    "    # How are you?\n",
    "    elif \"how are you\" in user_input:\n",
    "      response = \"I'm doing well, thanks for asking! How are you?\"\n",
    "\n",
    "    # Favorite things\n",
    "    elif \"favorite\" in user_input:\n",
    "      if \"color\" in user_input:\n",
    "        response = \"I don't technically have a favorite color, but I like shades of blue that remind me of the ocean.\"\n",
    "      elif \"food\" in user_input:\n",
    "        response = \"That's a tough one! I can't really eat, but I find the variety of human food fascinating.\"\n",
    "      else:\n",
    "        response = \"That's an interesting question! I don't have favorites in the same way humans do, but I enjoy learning new things.\"\n",
    "\n",
    "    # Fun facts\n",
    "    elif \"fun fact\" in user_input:\n",
    "      response = \"Did you know the population of the earth is estimated to be over 8 billion people?\"\n",
    "\n",
    "    # Goodbye\n",
    "    elif any(bye in user_input for bye in (\"bye\", \"goodbye\", \"see ya\")):\n",
    "      response = \"See you later! Have a nice day.\"\n",
    "      break\n",
    "\n",
    "    # Didn't understand\n",
    "    else:\n",
    "      response = \"Sorry, I didn't understand that. Could you rephrase?\"\n",
    "\n",
    "    print(\"Chatbot:\", response)\n",
    "\n",
    "# Start the chatbot conversation\n",
    "chatbot()\n"
   ]
  },
  {
   "cell_type": "code",
   "execution_count": null,
   "id": "f3057459-e9ed-4a40-9a39-c03936a0a320",
   "metadata": {},
   "outputs": [],
   "source": []
  }
 ],
 "metadata": {
  "kernelspec": {
   "display_name": "Python 3 (ipykernel)",
   "language": "python",
   "name": "python3"
  },
  "language_info": {
   "codemirror_mode": {
    "name": "ipython",
    "version": 3
   },
   "file_extension": ".py",
   "mimetype": "text/x-python",
   "name": "python",
   "nbconvert_exporter": "python",
   "pygments_lexer": "ipython3",
   "version": "3.12.2"
  }
 },
 "nbformat": 4,
 "nbformat_minor": 5
}
